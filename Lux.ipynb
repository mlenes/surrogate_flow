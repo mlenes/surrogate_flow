{
 "cells": [
  {
   "cell_type": "code",
   "execution_count": 45,
   "id": "a155f503",
   "metadata": {},
   "outputs": [],
   "source": [
    "using Lux, Random, Zygote, ForwardDiff, ComponentArrays"
   ]
  },
  {
   "cell_type": "code",
   "execution_count": 2,
   "id": "e51468f7",
   "metadata": {},
   "outputs": [
    {
     "data": {
      "text/plain": [
       "TaskLocalRNG()"
      ]
     },
     "execution_count": 2,
     "metadata": {},
     "output_type": "execute_result"
    }
   ],
   "source": [
    "rng = Random.default_rng()\n",
    "Random.seed!(rng, 0)"
   ]
  },
  {
   "cell_type": "code",
   "execution_count": 5,
   "id": "e7a65462",
   "metadata": {},
   "outputs": [
    {
     "data": {
      "text/plain": [
       "Xoshiro(0xdb2fa90498613fdf, 0x48d73dc42d195740, 0x8c49bc52dc8a77ea, 0x1911b814c02405e8, 0x22a21880af5dc689)"
      ]
     },
     "execution_count": 5,
     "metadata": {},
     "output_type": "execute_result"
    }
   ],
   "source": [
    "rng = Xoshiro(0)"
   ]
  },
  {
   "cell_type": "code",
   "execution_count": 12,
   "id": "4627f261",
   "metadata": {},
   "outputs": [
    {
     "data": {
      "text/plain": [
       "4-element Vector{Float32}:\n",
       " -0.4051151\n",
       " -0.4593922\n",
       "  0.92155594\n",
       "  1.1871622"
      ]
     },
     "execution_count": 12,
     "metadata": {},
     "output_type": "execute_result"
    }
   ],
   "source": [
    "f(x) = x' * x / 2\n",
    "∇f(x) = x\n",
    "v = randn(rng, Float32, 4)"
   ]
  },
  {
   "cell_type": "code",
   "execution_count": 20,
   "id": "fb90abe1",
   "metadata": {},
   "outputs": [
    {
     "name": "stdout",
     "output_type": "stream",
     "text": [
      "Actual Gradient: Float32[-0.4051151, -0.4593922, 0.92155594, 1.1871622]\n",
      "Reverse mode AD (Zygote): Float32[-0.4051151, -0.4593922, 0.92155594, 1.1871622]\n",
      "Forward mode AD (ForwardDiff): Float32[-0.4051151, -0.4593922, 0.92155594, 1.1871622]\n"
     ]
    }
   ],
   "source": [
    "println(\"Actual Gradient: \", ∇f(v))\n",
    "println(\"Reverse mode AD (Zygote): \", only(Zygote.gradient(f, v)))\n",
    "println(\"Forward mode AD (ForwardDiff): \", ForwardDiff.gradient(f, v))"
   ]
  },
  {
   "cell_type": "code",
   "execution_count": 38,
   "id": "c6298a12",
   "metadata": {},
   "outputs": [
    {
     "data": {
      "text/plain": [
       "5-element Vector{Float32}:\n",
       " 1.0\n",
       " 1.0\n",
       " 1.0\n",
       " 1.0\n",
       " 1.0"
      ]
     },
     "execution_count": 38,
     "metadata": {},
     "output_type": "execute_result"
    }
   ],
   "source": [
    "f(x) = x .* x ./ 2\n",
    "x = randn(rng, Float32, 5)\n",
    "v = ones(Float32, 5)"
   ]
  },
  {
   "cell_type": "code",
   "execution_count": 39,
   "id": "efcbe1ec",
   "metadata": {},
   "outputs": [
    {
     "name": "stdout",
     "output_type": "stream",
     "text": [
      "JVP: Float32[0.15555301, 1.7444679, 0.17587967, -0.68025863, -1.2576457]\n"
     ]
    }
   ],
   "source": [
    "jvp = jacobian_vector_product(f, AutoForwardDiff(), x, v)\n",
    "println(\"JVP: \", jvp)"
   ]
  },
  {
   "cell_type": "code",
   "execution_count": 40,
   "id": "6eba6acf",
   "metadata": {},
   "outputs": [
    {
     "name": "stdout",
     "output_type": "stream",
     "text": [
      "VJP:, Float32[0.15555301, 1.7444679, 0.17587967, -0.68025863, -1.2576457]\n"
     ]
    }
   ],
   "source": [
    "vjp = vector_jacobian_product(f, AutoZygote(), x, v)\n",
    "println(\"VJP:, \", vjp)"
   ]
  },
  {
   "cell_type": "code",
   "execution_count": 41,
   "id": "c0c7f572",
   "metadata": {},
   "outputs": [
    {
     "data": {
      "text/plain": [
       "TaskLocalRNG()"
      ]
     },
     "execution_count": 41,
     "metadata": {},
     "output_type": "execute_result"
    }
   ],
   "source": [
    "model = Dense(10 => 5)\n",
    "\n",
    "rng = Random.default_rng()\n",
    "Random.seed!(rng, 0)"
   ]
  },
  {
   "cell_type": "code",
   "execution_count": 46,
   "id": "3c1b46af",
   "metadata": {},
   "outputs": [
    {
     "data": {
      "text/plain": [
       "\u001b[0mComponentVector{Float32}(weight = Float32[0.22935219 0.07400359 … 0.14166893 -0.3249388; 0.14682935 0.06340918 … -0.49868968 -0.29555887; … ; 0.065271355 -0.5196091 … 0.22492215 -0.17248948; -0.31098855 -0.08090937 … -0.31564915 0.09552979], bias = Float32[-0.26236102, 0.21459429, 0.11326429, -0.047312886, -0.074518755])"
      ]
     },
     "execution_count": 46,
     "metadata": {},
     "output_type": "execute_result"
    }
   ],
   "source": [
    "ps, st = Lux.setup(rng, model)\n",
    "ps = ComponentArray(ps)"
   ]
  }
 ],
 "metadata": {
  "kernelspec": {
   "display_name": "Julia 1.11.6",
   "language": "julia",
   "name": "julia-1.11"
  },
  "language_info": {
   "file_extension": ".jl",
   "mimetype": "application/julia",
   "name": "julia",
   "version": "1.11.6"
  }
 },
 "nbformat": 4,
 "nbformat_minor": 5
}
