{
 "cells": [
  {
   "cell_type": "code",
   "execution_count": null,
   "id": "6ffd92d2-9e6e-4354-95a7-7417ecf98168",
   "metadata": {},
   "outputs": [],
   "source": [
    "using Lux, Reactant, Enzyme, Zygote, Optimisers, MLUtils, Random, Statistics, JLD2, Plots, NNlib, ProgressMeter, BSON\n",
    "include(\"analysis_tools.jl\")\n",
    "include(\"models.jl\")\n",
    "\n",
    "const cdev = cpu_device()\n",
    "const xdev = reactant_device(; force=true);"
   ]
  },
  {
   "cell_type": "code",
   "execution_count": 3,
   "id": "b1e9f09f-f7be-4582-9631-32939f027bce",
   "metadata": {},
   "outputs": [],
   "source": [
    "# Settings\n",
    "epochs = 1000\n",
    "batchsize = 40\n",
    "learning_rate = 0.005f0\n",
    "\n",
    "seed = 0\n",
    "#ad_backend = AutoZygote() # Reactant does not like zygote, cpu does not like enzyme\n",
    "ad_backend = AutoEnzyme()\n",
    "\n",
    "n_in = 1\n",
    "n_out = 1\n",
    "n_hidden = 8\n",
    "n_filter = 3;"
   ]
  },
  {
   "cell_type": "code",
   "execution_count": 4,
   "id": "e03e43ef-b873-408c-8736-bde7645b19cc",
   "metadata": {},
   "outputs": [],
   "source": [
    "# data1=load(\"data/burgers1d_periodic_dt.jld2\")\n",
    "# data2=load(\"data/burgers1d_periodic7.jld2\")\n",
    "\n",
    "# n_steps = length(data1[\"solution\"])-1\n",
    "# n_points = length(data1[\"solution\"][1])\n",
    "\n",
    "# X = zeros(Float32, n_points, 1, n_steps*2)\n",
    "# y = zeros(Float32, n_points, 1, n_steps*2)\n",
    "# for t in 1:n_steps\n",
    "#     X[:,:,t] .= data1[\"solution\"][t]\n",
    "#     y[:,:,t] .= data1[\"solution\"][t+1]\n",
    "    \n",
    "#     X[:,:,n_steps+t] .= data2[\"solution\"][t]\n",
    "#     y[:,:,n_steps+t] .= data2[\"solution\"][t+1]\n",
    "# end\n",
    "\n",
    "X_data=load(\"data/burgers1d_periodicNoised.jld2\")\n",
    "y_data=load(\"data/burgers1d_periodicBase.jld2\")\n",
    "\n",
    "n_steps = length(X_data[\"solution\"])-1\n",
    "n_points = length(X_data[\"solution\"][1])\n",
    "\n",
    "X = zeros(Float32, n_points, 1, n_steps)\n",
    "y = zeros(Float32, n_points, 1, n_steps)\n",
    "for t in 1:n_steps\n",
    "    X[:,:,t] .= X_data[\"solution\"][t]\n",
    "    y[:,:,t] .= y_data[\"solution\"][t+1]\n",
    "end\n",
    "\n",
    "Xμ = mean(X)\n",
    "Xσ = std(X)\n",
    "X = (X .- Xμ) ./ Xσ\n",
    "y = (y .- Xμ) ./ Xσ\n",
    "\n",
    "dataloader = DataLoader((X, y), batchsize=batchsize, shuffle=true, partial=false) |> xdev;"
   ]
  },
  {
   "cell_type": "code",
   "execution_count": 5,
   "id": "2657c41b-6a63-415d-963e-d89f2d21b642",
   "metadata": {},
   "outputs": [],
   "source": [
    "function loss_function(model, ps, st, (X_batch, y_batch))\n",
    "    smodel = StatefulLuxLayer(model, ps, st)\n",
    "    y_pred = smodel(X_batch)\n",
    "    \n",
    "    data_loss = mean(abs2, y_pred .- y_batch)\n",
    "    loss = data_loss\n",
    "    return loss, st, (; data_loss, total_loss=loss)\n",
    "end;"
   ]
  },
  {
   "cell_type": "code",
   "execution_count": null,
   "id": "fd923116-8547-4e9c-ab87-6ea089f0d4a8",
   "metadata": {},
   "outputs": [],
   "source": [
    "flux_model = FluxModel(n_filter, n_in, n_hidden, n_out)\n",
    "\n",
    "rng = Random.default_rng()\n",
    "Random.seed!(rng, seed)\n",
    "\n",
    "ps, st = Lux.setup(rng, flux_model) |> xdev\n",
    "\n",
    "train_state = Training.TrainState(flux_model, ps, st, Adam(learning_rate))\n",
    "\n",
    "lr = i -> i < 500 ? 0.005f0 : (i < 1000 ? 0.0005f0 : 0.00005f0)\n",
    "\n",
    "total_losses = Float32[]\n",
    "data_losses = Float32[]\n",
    "\n",
    "count = 0\n",
    "@showprogress for epoch in 1:epochs\n",
    "    Optimisers.adjust!(train_state, lr(epoch))\n",
    "    for batch in dataloader\n",
    "        _, loss, stats, train_state = Training.single_train_step!(ad_backend,\n",
    "                                                              loss_function,\n",
    "                                                              batch,\n",
    "                                                              train_state;\n",
    "                                                              return_gradients=Val(false),\n",
    "        )\n",
    "        if count % 100 == 0\n",
    "            push!(total_losses, stats.total_loss)\n",
    "            push!(data_losses, stats.data_loss)\n",
    "        end\n",
    "        count+=1\n",
    "    end\n",
    "end\n",
    "\n",
    "model = StatefulLuxLayer(flux_model, cdev(train_state.parameters), cdev(train_state.states));\n",
    "BSON.@save \"models/trained_model_trial.bson\" model Xμ Xσ;"
   ]
  },
  {
   "cell_type": "code",
   "execution_count": null,
   "id": "681410d4-4b74-45b9-b0ed-2739bca0c2a8",
   "metadata": {},
   "outputs": [],
   "source": [
    "p1 = plot(total_losses, label=\"Total loss\", xlabel=\"Batch\", ylabel=\"Loss\", yscale=:log10, title=\"Training loss\")\n",
    "plot!(p1, data_losses, label=\"Data loss\")\n",
    "display(p1)"
   ]
  }
 ],
 "metadata": {
  "kernelspec": {
   "display_name": "Julia 1.11.6",
   "language": "julia",
   "name": "julia-1.11"
  },
  "language_info": {
   "file_extension": ".jl",
   "mimetype": "application/julia",
   "name": "julia",
   "version": "1.11.6"
  }
 },
 "nbformat": 4,
 "nbformat_minor": 5
}
