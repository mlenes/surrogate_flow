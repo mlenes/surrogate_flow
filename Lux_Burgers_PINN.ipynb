{
 "cells": [
  {
   "cell_type": "code",
   "execution_count": 1,
   "id": "3b515bc2-436a-460c-9248-123d09bd6cf1",
   "metadata": {},
   "outputs": [],
   "source": [
    "using Lux, Reactant, Random, Optimisers, Enzyme, Statistics\n",
    "\n",
    "const cdev = cpu_device()\n",
    "const xdev = reactant_device(; force=true);"
   ]
  },
  {
   "cell_type": "code",
   "execution_count": 2,
   "id": "827f9420-e163-44da-80f0-836d222f2878",
   "metadata": {},
   "outputs": [],
   "source": [
    "const L = 10.0f0\n",
    "const t_end = 5.0f0\n",
    "const ν = 0.1f0\n",
    "\n",
    "const u_mean = 1.0f0\n",
    "const u_amplitude = 0.5f0\n",
    "const k = 2.0f0*pi/L\n",
    "u0(x) = Float32(u_mean + u_amplitude * cos(k*x))\n",
    "\n",
    "const λ_pde = 3.0f0\n",
    "const λ_ic = 1.0f0\n",
    "const λ_bc = 1.0f0;"
   ]
  },
  {
   "cell_type": "code",
   "execution_count": 3,
   "id": "3671cddb-82b8-4f99-aa64-b4ea971f460e",
   "metadata": {},
   "outputs": [],
   "source": [
    "struct PINN{M} <: AbstractLuxWrapperLayer{:model}\n",
    "    model::M\n",
    "end\n",
    "\n",
    "function PINN(; hidden_dims::Int=32)\n",
    "    return PINN(\n",
    "        Chain(\n",
    "            Dense(2 => hidden_dims, tanh),\n",
    "            Dense(hidden_dims => hidden_dims, tanh),\n",
    "            Dense(hidden_dims => hidden_dims, tanh),\n",
    "            Dense(hidden_dims => 1),\n",
    "        ),\n",
    "    )\n",
    "end;"
   ]
  },
  {
   "cell_type": "code",
   "execution_count": 4,
   "id": "4038af06-f4ce-49a9-9181-152f64bbb19e",
   "metadata": {},
   "outputs": [],
   "source": [
    "function u(model::StatefulLuxLayer, xt::AbstractArray)\n",
    "    return model(xt)\n",
    "end\n",
    "\n",
    "function ∂u_∂t(model::StatefulLuxLayer, xt::AbstractArray)\n",
    "    return Enzyme.gradient(Enzyme.Reverse, sum ∘ model, xt)[1][2, :]\n",
    "end\n",
    "\n",
    "function ∂u_∂x(model::StatefulLuxLayer, xt::AbstractArray)\n",
    "    return Enzyme.gradient(Enzyme.Reverse, sum ∘ model, xt)[1][1, :]\n",
    "end\n",
    "function ∂²u_∂x²(model::StatefulLuxLayer, xt::AbstractArray)\n",
    "    return Enzyme.gradient(Enzyme.Reverse, sum ∘ ∂u_∂x, Enzyme.Const(model), xt)[2][1, :]\n",
    "end;"
   ]
  },
  {
   "cell_type": "code",
   "execution_count": 5,
   "id": "a7e42832-8935-46a4-be44-4dd8c25a1846",
   "metadata": {},
   "outputs": [],
   "source": [
    "function physics_informed_loss_function(model::StatefulLuxLayer, xt::AbstractArray)\n",
    "    return mean(abs2, ∂u_∂t(model, xt) .+ u(model, xt) .* ∂u_∂x(model, xt) .- (ν .* ∂²u_∂x²(model, xt)))\n",
    "end\n",
    "function bc_loss_function(model::StatefulLuxLayer, xt_i::AbstractArray, xt_f::AbstractArray)\n",
    "    u_i = model(xt_i)\n",
    "    u_f = model(xt_f)\n",
    "    mean(abs2, u_i .- u_f)\n",
    "end\n",
    "function ic_loss_function(model::StatefulLuxLayer, xt::AbstractArray, target::AbstractArray)\n",
    "    u = model(xt)\n",
    "    mean(abs2, u .- target)\n",
    "end\n",
    "function loss_function(model, ps, st, (xt, xt_bc_i, xt_bc_f, xt_ic, target_ic))\n",
    "    smodel = StatefulLuxLayer(model, ps, st)\n",
    "    physics_loss = physics_informed_loss_function(smodel, xt)\n",
    "    bc_loss = bc_loss_function(smodel, xt_bc_i, xt_bc_f)\n",
    "    ic_loss = ic_loss_function(smodel, xt_ic, target_ic)\n",
    "    loss = λ_pde * physics_loss + λ_bc * bc_loss + λ_ic * ic_loss\n",
    "    return loss, smodel.st, (; physics_loss, bc_loss, ic_loss, total_loss=loss)\n",
    "end;"
   ]
  },
  {
   "cell_type": "code",
   "execution_count": 6,
   "id": "7040b761-fb52-4e46-af39-9d99902118cc",
   "metadata": {},
   "outputs": [],
   "source": [
    "function get_data(rng, batch_size_pde, batch_size_bc, batch_size_ic)\n",
    "    xt = rand(rng, Float32, (2, batch_size_pde))\n",
    "    xt[1, :] .*= L\n",
    "    xt[2, :] .*= t_end\n",
    "\n",
    "    rand_t_bc = rand(rng, Float32, batch_size_bc) .* t_end\n",
    "    xt_bc_i = zeros(Float32, (2, batch_size_bc))\n",
    "    xt_bc_i[2, :] = rand_t_bc\n",
    "\n",
    "    xt_bc_f = fill(L, (2, batch_size_bc))\n",
    "    xt_bc_f[2, :] = rand_t_bc\n",
    "    \n",
    "    rand_x_ic = rand(rng, Float32, batch_size_ic) .* L\n",
    "    xt_ic = zeros(Float32, (2, batch_size_ic))\n",
    "    xt_ic[1, :] = rand_x_ic\n",
    "\n",
    "    target_ic = reshape(u0.(rand_x_ic), 1, :)\n",
    "    return (xt, xt_bc_i, xt_bc_f, xt_ic, target_ic)\n",
    "end;"
   ]
  },
  {
   "cell_type": "code",
   "execution_count": 7,
   "id": "23dc0cc1-1b3d-4ff5-873e-aec500baf30c",
   "metadata": {},
   "outputs": [],
   "source": [
    "function train_model(; seed::Int=0, maxiters::Int=10000, hidden_dims::Int=64, \n",
    "        batch_size_pde::Int=256, batch_size_bc::Int=64, batch_size_ic::Int=64)\n",
    "    \n",
    "    rng = Random.default_rng()\n",
    "    Random.seed!(rng, seed)\n",
    "\n",
    "    pinn = PINN(; hidden_dims)\n",
    "    ps, st = Lux.setup(rng, pinn) |> xdev\n",
    "\n",
    "    train_state = Training.TrainState(pinn, ps, st, Adam(0.005f0))\n",
    "\n",
    "    lr = i -> i < 5000 ? 0.005f0 : (i < 10000 ? 0.0005f0 : 0.00005f0)\n",
    "\n",
    "    for iter in 1:maxiters\n",
    "        batch = get_data(rng, batch_size_pde, batch_size_bc, batch_size_ic) |> xdev\n",
    "\n",
    "        Optimisers.adjust!(train_state, lr(iter))\n",
    "\n",
    "        _, loss, stats, train_state = Training.single_train_step!(AutoEnzyme(),\n",
    "                                                                  loss_function,\n",
    "                                                                  batch,\n",
    "                                                                  train_state;\n",
    "                                                                  return_gradients=Val(false),\n",
    "        )\n",
    "\n",
    "        if iter % 1000 == 0\n",
    "            println(\"Iter: $(iter), loss: $(Float32(loss))\")\n",
    "        end\n",
    "    end\n",
    "\n",
    "    return StatefulLuxLayer(pinn, cdev(train_state.parameters), cdev(train_state.states))\n",
    "end;"
   ]
  },
  {
   "cell_type": "code",
   "execution_count": 8,
   "id": "b11daa1b-0091-433e-9072-edf1eff18588",
   "metadata": {},
   "outputs": [
    {
     "name": "stdout",
     "output_type": "stream",
     "text": [
      "Iter: 1000, loss: 0.009160802\n"
     ]
    },
    {
     "name": "stderr",
     "output_type": "stream",
     "text": [
      "WARNING: All log messages before absl::InitializeLog() is called are written to STDERR\n",
      "I0000 00:00:1757272670.672039   14750 service.cc:163] XLA service 0x2c158190 initialized for platform CUDA (this does not guarantee that XLA will be used). Devices:\n",
      "I0000 00:00:1757272670.672057   14750 service.cc:171]   StreamExecutor device (0): NVIDIA GeForce RTX 3060 Ti, Compute Capability 8.6\n",
      "I0000 00:00:1757272670.672332   14750 se_gpu_pjrt_client.cc:1338] Using BFC allocator.\n",
      "I0000 00:00:1757272670.672359   14750 gpu_helpers.cc:136] XLA backend allocating 6159925248 bytes on device 0 for BFCAllocator.\n",
      "I0000 00:00:1757272670.672385   14750 gpu_helpers.cc:177] XLA backend will use up to 2053308416 bytes on device 0 for CollectiveBFCAllocator.\n",
      "I0000 00:00:1757272670.682119   14750 cuda_dnn.cc:463] Loaded cuDNN version 90800\n",
      "I0000 00:00:1757272670.689569   14750 cuda_executor.cc:517] failed to allocate 5.74GiB (6159925248 bytes) from device: RESOURCE_EXHAUSTED: : CUDA_ERROR_OUT_OF_MEMORY: out of memory\n",
      "I0000 00:00:1757272670.689661   14750 cuda_executor.cc:517] failed to allocate 5.16GiB (5543932416 bytes) from device: RESOURCE_EXHAUSTED: : CUDA_ERROR_OUT_OF_MEMORY: out of memory\n",
      "I0000 00:00:1757272670.689738   14750 cuda_executor.cc:517] failed to allocate 4.65GiB (4989538816 bytes) from device: RESOURCE_EXHAUSTED: : CUDA_ERROR_OUT_OF_MEMORY: out of memory\n",
      "I0000 00:00:1757272670.689812   14750 cuda_executor.cc:517] failed to allocate 4.18GiB (4490584576 bytes) from device: RESOURCE_EXHAUSTED: : CUDA_ERROR_OUT_OF_MEMORY: out of memory\n",
      "I0000 00:00:1757272670.689885   14750 cuda_executor.cc:517] failed to allocate 3.76GiB (4041526016 bytes) from device: RESOURCE_EXHAUSTED: : CUDA_ERROR_OUT_OF_MEMORY: out of memory\n",
      "I0000 00:00:1757272670.689965   14750 cuda_executor.cc:517] failed to allocate 3.39GiB (3637373440 bytes) from device: RESOURCE_EXHAUSTED: : CUDA_ERROR_OUT_OF_MEMORY: out of memory\n",
      "I0000 00:00:1757272670.690041   14750 cuda_executor.cc:517] failed to allocate 3.05GiB (3273636096 bytes) from device: RESOURCE_EXHAUSTED: : CUDA_ERROR_OUT_OF_MEMORY: out of memory\n",
      "I0000 00:00:1757272670.690114   14750 cuda_executor.cc:517] failed to allocate 2.74GiB (2946272512 bytes) from device: RESOURCE_EXHAUSTED: : CUDA_ERROR_OUT_OF_MEMORY: out of memory\n",
      "I0000 00:00:1757272670.690184   14750 cuda_executor.cc:517] failed to allocate 2.47GiB (2651645184 bytes) from device: RESOURCE_EXHAUSTED: : CUDA_ERROR_OUT_OF_MEMORY: out of memory\n",
      "I0000 00:00:1757272670.690256   14750 cuda_executor.cc:517] failed to allocate 2.22GiB (2386480640 bytes) from device: RESOURCE_EXHAUSTED: : CUDA_ERROR_OUT_OF_MEMORY: out of memory\n",
      "I0000 00:00:1757272670.690326   14750 cuda_executor.cc:517] failed to allocate 2.00GiB (2147832576 bytes) from device: RESOURCE_EXHAUSTED: : CUDA_ERROR_OUT_OF_MEMORY: out of memory\n",
      "I0000 00:00:1757272670.690396   14750 cuda_executor.cc:517] failed to allocate 1.80GiB (1933049344 bytes) from device: RESOURCE_EXHAUSTED: : CUDA_ERROR_OUT_OF_MEMORY: out of memory\n",
      "I0000 00:00:1757272670.690464   14750 cuda_executor.cc:517] failed to allocate 1.62GiB (1739744512 bytes) from device: RESOURCE_EXHAUSTED: : CUDA_ERROR_OUT_OF_MEMORY: out of memory\n",
      "I0000 00:00:1757272670.690533   14750 cuda_executor.cc:517] failed to allocate 1.46GiB (1565769984 bytes) from device: RESOURCE_EXHAUSTED: : CUDA_ERROR_OUT_OF_MEMORY: out of memory\n",
      "I0000 00:00:1757272670.690600   14750 cuda_executor.cc:517] failed to allocate 1.31GiB (1409192960 bytes) from device: RESOURCE_EXHAUSTED: : CUDA_ERROR_OUT_OF_MEMORY: out of memory\n"
     ]
    },
    {
     "name": "stdout",
     "output_type": "stream",
     "text": [
      "Iter: 2000, loss: 0.0064483285\n",
      "Iter: 3000, loss: 0.00772568\n",
      "Iter: 4000, loss: 0.0074739833\n",
      "Iter: 5000, loss: 0.0064942813\n",
      "Iter: 6000, loss: 0.0064157755\n",
      "Iter: 7000, loss: 0.0061363177\n",
      "Iter: 8000, loss: 0.006158486\n",
      "Iter: 9000, loss: 0.005519745\n",
      "Iter: 10000, loss: 0.0063517764\n",
      "Iter: 11000, loss: 0.005922146\n",
      "Iter: 12000, loss: 0.006265676\n",
      "Iter: 13000, loss: 0.006338785\n",
      "Iter: 14000, loss: 0.005706429\n",
      "Iter: 15000, loss: 0.0058926856\n",
      "Iter: 16000, loss: 0.006232427\n",
      "Iter: 17000, loss: 0.006073523\n",
      "Iter: 18000, loss: 0.0055466415\n",
      "Iter: 19000, loss: 0.0061833877\n",
      "Iter: 20000, loss: 0.0058193626\n",
      "Iter: 21000, loss: 0.005880187\n",
      "Iter: 22000, loss: 0.0059887934\n",
      "Iter: 23000, loss: 0.0063040177\n",
      "Iter: 24000, loss: 0.006266666\n",
      "Iter: 25000, loss: 0.0063183843\n",
      "Iter: 26000, loss: 0.006076712\n",
      "Iter: 27000, loss: 0.0062433663\n",
      "Iter: 28000, loss: 0.0057777427\n",
      "Iter: 29000, loss: 0.0061264215\n",
      "Iter: 30000, loss: 0.0055093113\n",
      "Iter: 31000, loss: 0.0061090044\n",
      "Iter: 32000, loss: 0.006177628\n",
      "Iter: 33000, loss: 0.006438334\n",
      "Iter: 34000, loss: 0.0064541446\n",
      "Iter: 35000, loss: 0.006451867\n",
      "Iter: 36000, loss: 0.00571827\n",
      "Iter: 37000, loss: 0.005976132\n",
      "Iter: 38000, loss: 0.0055873147\n",
      "Iter: 39000, loss: 0.0059583685\n",
      "Iter: 40000, loss: 0.0060337563\n",
      "Iter: 41000, loss: 0.006318837\n",
      "Iter: 42000, loss: 0.006040112\n",
      "Iter: 43000, loss: 0.0058249477\n",
      "Iter: 44000, loss: 0.0062616062\n",
      "Iter: 45000, loss: 0.0063260533\n",
      "Iter: 46000, loss: 0.006657955\n",
      "Iter: 47000, loss: 0.006653855\n",
      "Iter: 48000, loss: 0.005984797\n",
      "Iter: 49000, loss: 0.0056534666\n",
      "Iter: 50000, loss: 0.0054911454\n"
     ]
    },
    {
     "data": {
      "text/plain": [
       "StatefulLuxLayer{Val{true}()}(\n",
       "    PINN(\n",
       "        model = Chain(\n",
       "            layer_1 = Dense(2 => 64, tanh),       \u001b[90m# 192 parameters\u001b[39m\n",
       "            layer_(2-3) = Dense(64 => 64, tanh),  \u001b[90m# 8_320 (4_160 x 2) parameters\u001b[39m\n",
       "            layer_4 = Dense(64 => 1),             \u001b[90m# 65 parameters\u001b[39m\n",
       "        ),\n",
       "    ),\n",
       ") \u001b[90m        # Total: \u001b[39m8_577 parameters,\n",
       "\u001b[90m          #        plus \u001b[39m0 states."
      ]
     },
     "execution_count": 8,
     "metadata": {},
     "output_type": "execute_result"
    }
   ],
   "source": [
    "train_model()"
   ]
  }
 ],
 "metadata": {
  "kernelspec": {
   "display_name": "Julia 1.11.6",
   "language": "julia",
   "name": "julia-1.11"
  },
  "language_info": {
   "file_extension": ".jl",
   "mimetype": "application/julia",
   "name": "julia",
   "version": "1.11.6"
  }
 },
 "nbformat": 4,
 "nbformat_minor": 5
}
