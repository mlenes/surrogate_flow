{
 "cells": [
  {
   "cell_type": "markdown",
   "id": "673d32c1",
   "metadata": {},
   "source": [
    "Data generation for 1D burgers equation using finite differences discretization in space, and an ODE solver for time."
   ]
  },
  {
   "cell_type": "code",
   "execution_count": 1,
   "id": "120d490c",
   "metadata": {},
   "outputs": [],
   "source": [
    "using OrdinaryDiffEq\n",
    "using ComponentArrays\n",
    "using Plots\n",
    "using JLD2"
   ]
  },
  {
   "cell_type": "code",
   "execution_count": 2,
   "id": "a5219505",
   "metadata": {},
   "outputs": [],
   "source": [
    "struct burgers_equation\n",
    "    Δx::Float64 # grid spacing\n",
    "    ν::Float64 # viscosity\n",
    "    du_dx::Vector{Float64} # temporary storage for du/dx\n",
    "    d2u_dx2::Vector{Float64} # temporary storage for d2u/dx2\n",
    "end\n",
    "\n",
    "function dx!(du,u,Δx) #upwind du_dx for u*du/dx term\n",
    "    n=length(u)\n",
    "    for i=2:n\n",
    "        du[i]=(u[i]-u[i-1])/Δx\n",
    "    end\n",
    "    du[1]=(u[1]-u[end])/Δx\n",
    "end\n",
    "\n",
    "function dx2!(du,u,Δx) #central second difference for ν d2u/dx2 term\n",
    "    n=length(u)\n",
    "    for i=2:n-1\n",
    "        du[i]=(u[i+1]-2*u[i]+u[i-1])/(Δx^2)\n",
    "    end\n",
    "    du[1]=(u[end]-2*u[1]+u[2])/(Δx^2)\n",
    "    du[end]=(u[end-1]-2*u[end]+u[1])/(Δx^2)\n",
    "end\n",
    "\n",
    "\"\"\"\n",
    "# Define the function that computes the time derivative of the state\n",
    " du/dt = -u * du/dx + ν * d2u/dx2\n",
    "\"\"\"\n",
    "function (f::burgers_equation)(du_dt, u, p, t)\n",
    "    Δx=f.Δx\n",
    "    ν=f.ν\n",
    "    du_dx=f.du_dx\n",
    "    d2u_dx2=f.d2u_dx2\n",
    "    dx!(du_dx,u,Δx)\n",
    "    dx2!(d2u_dx2,u,Δx)\n",
    "    @. du_dt = ν*d2u_dx2 - u*du_dx\n",
    "end\n",
    "\n",
    "function burgers_initial_condition(x,k,u_mean=1.0,u_amplitude=0.5)\n",
    "    return u_mean .+ u_amplitude.*cos.(k*x)\n",
    "end;"
   ]
  },
  {
   "cell_type": "code",
   "execution_count": 3,
   "id": "ffdcc920",
   "metadata": {},
   "outputs": [],
   "source": [
    "# setting up the problem\n",
    "\n",
    "# parameters\n",
    "nx=100     # number of spatial points\n",
    "L=10.0     # length of the domain\n",
    "Δx=L/nx    # spatial step\n",
    "ν=0.1    # viscosity\n",
    "k=2*pi/L   # wave number for initial condition\n",
    "u_mean=1 # mean velocity\n",
    "u_amplitude=0.5 # amplitude of the initial condition\n",
    "p=()       # parameters (not used in this case)\n",
    "\n",
    "x=Δx*(1:nx) # spatial grid points\n",
    "\n",
    "# initial condition\n",
    "u0 = burgers_initial_condition(x,k,u_mean,u_amplitude)\n",
    "\n",
    "# initialize model struct\n",
    "f=burgers_equation(Δx, ν, similar(u0), similar(u0))\n",
    "\n",
    "# time span\n",
    "t_end=15;"
   ]
  },
  {
   "cell_type": "code",
   "execution_count": 4,
   "id": "b791849a",
   "metadata": {},
   "outputs": [],
   "source": [
    "prob = ODEProblem(f, u0, (0.0, t_end))\n",
    "sol = solve(prob, Tsit5());"
   ]
  },
  {
   "cell_type": "code",
   "execution_count": 9,
   "id": "0b6b4b7c",
   "metadata": {},
   "outputs": [
    {
     "name": "stdout",
     "output_type": "stream",
     "text": [
      "0.022830000000000003\n"
     ]
    }
   ],
   "source": [
    "# save the solution to a JLD2 file\n",
    "cfl_out=0.2283 # CFL number for output\n",
    "nx_output=100 # at how many points to save, should be a multiple of nx for clean result\n",
    "Δx_output=L/nx_output\n",
    "dt_out=cfl_out*Δx_output/u_mean # time step for output, based on CFL condition\n",
    "println(dt_out)\n",
    "# spatial grid\n",
    "x_output=Δx_output*(1:nx_output) # spatial grid points\n",
    "\n",
    "times=collect(0.0:dt_out:t_end) # output times\n",
    "solution=[]\n",
    "for t in times\n",
    "    push!(solution, sol(t)[1:nx÷nx_output:end])\n",
    "end\n",
    "\n",
    "\n",
    "# save the solution to a JLD2 file\n",
    "save(\"data/burgers1d_periodicTEMP2.jld2\", \n",
    "    \"solution\", solution,\n",
    "    \"times\", times,\n",
    "    \"params\", (ν=ν, Δx=Δx, u_mean=u_mean, u_amplitude=u_amplitude, k=k),\n",
    "    \"grid\", x_output,\n",
    "    \"cfl_out\", cfl_out,\n",
    "    \"dt_out\", dt_out,\n",
    "    \"description\", \"Solution of the 1D Burgers equation with periodic boundary conditions, using a cosine as initial condition.\")\n"
   ]
  }
 ],
 "metadata": {
  "kernelspec": {
   "display_name": "Julia 1.11.6",
   "language": "julia",
   "name": "julia-1.11"
  },
  "language_info": {
   "file_extension": ".jl",
   "mimetype": "application/julia",
   "name": "julia",
   "version": "1.11.6"
  }
 },
 "nbformat": 4,
 "nbformat_minor": 5
}
